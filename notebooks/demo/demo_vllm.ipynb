{
 "cells": [
  {
   "cell_type": "markdown",
   "metadata": {},
   "source": [
    "## Chatbot example"
   ]
  },
  {
   "cell_type": "code",
   "execution_count": null,
   "metadata": {},
   "outputs": [],
   "source": [
    "!pip install openai"
   ]
  },
  {
   "cell_type": "code",
   "execution_count": 4,
   "metadata": {},
   "outputs": [],
   "source": [
    "from openai import OpenAI\n",
    "# Set OpenAI's API key and API base to use vLLM's API server.\n",
    "openai_api_base = \"https://vllm-demo.lab.sspcloud.fr/v1\"\n",
    "model =\"/root/.cache/huggingface/Phi-3-mini-4k-instruct\" \n",
    "openai_api_key=\"token\"\n",
    "\n",
    "client = OpenAI(\n",
    "    api_key=openai_api_key,\n",
    "    base_url=openai_api_base,\n",
    ")"
   ]
  },
  {
   "cell_type": "markdown",
   "metadata": {},
   "source": [
    "### Interaction"
   ]
  },
  {
   "cell_type": "code",
   "execution_count": null,
   "metadata": {},
   "outputs": [],
   "source": [
    "chat_response = client.chat.completions.create(\n",
    "    model=model,\n",
    "    messages=[\n",
    "        {\"role\": \"system\", \"content\": \"You are a helpful assistant.\"},\n",
    "        {\"role\": \"user\", \"content\": \"We are in a demo setting, introduce yourself nicely.\"},\n",
    "    ]\n",
    ")\n",
    "print(\"Chat response:\")\n",
    "print(chat_response.model_dump()[\"choices\"][0][\"message\"][\"content\"])"
   ]
  },
  {
   "cell_type": "markdown",
   "metadata": {},
   "source": [
    "### Translation"
   ]
  },
  {
   "cell_type": "code",
   "execution_count": null,
   "metadata": {},
   "outputs": [],
   "source": [
    "sentence = \"It's raining cats and dogs outside!\"\n",
    "\n",
    "chat_response = client.chat.completions.create(\n",
    "    model=model,\n",
    "    messages=[\n",
    "        {\"role\": \"system\", \"content\": \"You are a helpful assistant.\"},\n",
    "        {\"role\": \"user\", \"content\": f\"Can you translate this sentence in french? : {sentence}\"},\n",
    "    ]\n",
    ")\n",
    "print(\"Chat response:\")\n",
    "print(chat_response.model_dump()[\"choices\"][0][\"message\"][\"content\"])"
   ]
  },
  {
   "cell_type": "markdown",
   "metadata": {},
   "source": [
    "### Summarization"
   ]
  },
  {
   "cell_type": "code",
   "execution_count": 5,
   "metadata": {},
   "outputs": [],
   "source": [
    "text_switzerland_wiki = \"\"\"\n",
    "Switzerland, officially the Swiss Confederation, is a landlocked country located in west-central Europe.[d][13] It is bordered by Italy to the south, France to the west, Germany to the north, and Austria and Liechtenstein to the east. Switzerland is geographically divided among the Swiss Plateau, the Alps and the Jura; the Alps occupy the greater part of the territory, whereas most of the country's population of 9 million are concentrated on the plateau, which hosts its largest cities and economic centres, including Zurich, Geneva, and Basel.[14]\n",
    "\n",
    "Switzerland originates from the Old Swiss Confederacy established in the Late Middle Ages, following a series of military successes against Austria and Burgundy; the Federal Charter of 1291 is considered the country's founding document. Swiss independence from the Holy Roman Empire was formally recognised in the Peace of Westphalia in 1648. Switzerland has maintained a policy of armed neutrality since the 16th century and has not fought an international war since 1815. It joined the United Nations only in 2002 but pursues an active foreign policy that includes frequent involvement in peace building.[15]\n",
    "\n",
    "Switzerland is the birthplace of the Red Cross and hosts the headquarters or offices of most major international institutions including the WTO, the WHO, the ILO, FIFA, the WEF, and the UN. It is a founding member of the European Free Trade Association (EFTA), but not part of the European Union (EU), the European Economic Area, or the eurozone; however, it participates in the European single market and the Schengen Area. Switzerland is a federal republic composed of 26 cantons, with federal authorities based in Bern.[a][2][1]\n",
    "\n",
    "Switzerland is one of the world's most developed countries and ranks 1st on the Human Development Index. It has the highest nominal wealth per adult[16] and the eighth-highest gross domestic product (GDP) per capita.[17][18] Switzerland performs highly on several international metrics, including economic competitiveness and democratic governance. Cities such as Zurich, Geneva and Basel rank among the highest in terms of quality of life,[19][20] albeit with some of the highest costs of living.[21] Switzerland holds an international reputation for its established banking sector, alongside its distinctive recognition for their watchmaking and chocolate production.\n",
    "\n",
    "It has four main linguistic and cultural regions: German, French, Italian and Romansh. Although most Swiss are German-speaking, national identity is fairly cohesive, being rooted in a common historical background, shared values such as federalism and direct democracy,[22] and Alpine symbolism.[23][24] Swiss identity transcends language, ethnicity, and religion, leading to Switzerland being described as a Willensnation (\"nation of volition\") rather than a nation state.[25]\n",
    "\"\"\""
   ]
  },
  {
   "cell_type": "code",
   "execution_count": null,
   "metadata": {},
   "outputs": [],
   "source": [
    "chat_response = client.chat.completions.create(\n",
    "    model=model,\n",
    "    messages=[\n",
    "        {\"role\": \"system\", \"content\": \"You are a helpful assistant.\"},\n",
    "        {\"role\": \"user\", \"content\": f\"\"\"Give me a very short summary of this content (max 30 words): {text_switzerland_wiki}\"\"\"}\n",
    "\n",
    "    ]\n",
    ")\n",
    "print(\"Chat response:\")\n",
    "print(chat_response.model_dump()[\"choices\"][0][\"message\"][\"content\"])"
   ]
  }
 ],
 "metadata": {
  "kernelspec": {
   "display_name": "base",
   "language": "python",
   "name": "python3"
  },
  "language_info": {
   "codemirror_mode": {
    "name": "ipython",
    "version": 3
   },
   "file_extension": ".py",
   "mimetype": "text/x-python",
   "name": "python",
   "nbconvert_exporter": "python",
   "pygments_lexer": "ipython3",
   "version": "3.12.7"
  }
 },
 "nbformat": 4,
 "nbformat_minor": 2
}
