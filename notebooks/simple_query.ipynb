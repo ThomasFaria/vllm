{
 "cells": [
  {
   "cell_type": "code",
   "execution_count": 1,
   "metadata": {},
   "outputs": [],
   "source": [
    "import requests\n",
    "import json"
   ]
  },
  {
   "cell_type": "markdown",
   "metadata": {},
   "source": [
    "## Text completion example"
   ]
  },
  {
   "cell_type": "code",
   "execution_count": 2,
   "metadata": {},
   "outputs": [],
   "source": [
    "def complete_query(api, model, prompt, max_tokens = 100, temperature = 0.7):\n",
    "    headers = {\n",
    "        \"Content-Type\": \"application/json\"\n",
    "    }\n",
    "\n",
    "    json_data = {\n",
    "        'model': model,\n",
    "        'prompt': prompt,\n",
    "        'max_tokens': max_tokens,\n",
    "        'temperature': temperature,\n",
    "    }\n",
    "\n",
    "    response = requests.post(api, headers=headers, json=json_data)\n",
    "    print(response)\n",
    "    return response.json()[\"choices\"][0][\"text\"]"
   ]
  },
  {
   "cell_type": "code",
   "execution_count": 3,
   "metadata": {},
   "outputs": [],
   "source": [
    "api = \"https://llm-serving.lab.sspcloud.fr/v1/completions\"\n",
    "model =\"/root/.cache/huggingface/Phi-3-mini-4k-instruct\"  #\"facebook/opt-125m\" #microsoft/Phi-3-mini-4k-instruct meta-llama/Meta-Llama-3-8B-Instruct\""
   ]
  },
  {
   "cell_type": "code",
   "execution_count": 4,
   "metadata": {},
   "outputs": [
    {
     "name": "stdout",
     "output_type": "stream",
     "text": [
      "<Response [200]>\n"
     ]
    }
   ],
   "source": [
    "prompt = \"Switzerland is a country composed \"\n",
    "query = complete_query(api, model, prompt, max_tokens=40)"
   ]
  },
  {
   "cell_type": "code",
   "execution_count": 5,
   "metadata": {},
   "outputs": [
    {
     "name": "stdout",
     "output_type": "stream",
     "text": [
      "Switzerland is a country composed  44% of women, has a GDP growth of 3.9% and a 2.6% unemployment rate, while the female labor participation rate is 75%.\n"
     ]
    }
   ],
   "source": [
    "print(prompt, query)"
   ]
  },
  {
   "cell_type": "markdown",
   "metadata": {},
   "source": [
    "## Chatbot example"
   ]
  },
  {
   "cell_type": "code",
   "execution_count": 8,
   "metadata": {},
   "outputs": [
    {
     "name": "stdout",
     "output_type": "stream",
     "text": [
      "Collecting openai\n",
      "  Downloading openai-1.55.1-py3-none-any.whl.metadata (24 kB)\n",
      "Collecting anyio<5,>=3.5.0 (from openai)\n",
      "  Downloading anyio-4.6.2.post1-py3-none-any.whl.metadata (4.7 kB)\n",
      "Requirement already satisfied: distro<2,>=1.7.0 in /opt/conda/lib/python3.12/site-packages (from openai) (1.9.0)\n",
      "Collecting httpx<1,>=0.23.0 (from openai)\n",
      "  Downloading httpx-0.27.2-py3-none-any.whl.metadata (7.1 kB)\n",
      "Collecting jiter<1,>=0.4.0 (from openai)\n",
      "  Downloading jiter-0.7.1-cp312-cp312-manylinux_2_17_x86_64.manylinux2014_x86_64.whl.metadata (5.2 kB)\n",
      "Collecting pydantic<3,>=1.9.0 (from openai)\n",
      "  Downloading pydantic-2.10.2-py3-none-any.whl.metadata (170 kB)\n",
      "Collecting sniffio (from openai)\n",
      "  Downloading sniffio-1.3.1-py3-none-any.whl.metadata (3.9 kB)\n",
      "Requirement already satisfied: tqdm>4 in /opt/conda/lib/python3.12/site-packages (from openai) (4.66.5)\n",
      "Requirement already satisfied: typing-extensions<5,>=4.11 in /opt/conda/lib/python3.12/site-packages (from openai) (4.12.2)\n",
      "Requirement already satisfied: idna>=2.8 in /opt/conda/lib/python3.12/site-packages (from anyio<5,>=3.5.0->openai) (3.10)\n",
      "Requirement already satisfied: certifi in /opt/conda/lib/python3.12/site-packages (from httpx<1,>=0.23.0->openai) (2024.8.30)\n",
      "Collecting httpcore==1.* (from httpx<1,>=0.23.0->openai)\n",
      "  Downloading httpcore-1.0.7-py3-none-any.whl.metadata (21 kB)\n",
      "Collecting h11<0.15,>=0.13 (from httpcore==1.*->httpx<1,>=0.23.0->openai)\n",
      "  Downloading h11-0.14.0-py3-none-any.whl.metadata (8.2 kB)\n",
      "Collecting annotated-types>=0.6.0 (from pydantic<3,>=1.9.0->openai)\n",
      "  Downloading annotated_types-0.7.0-py3-none-any.whl.metadata (15 kB)\n",
      "Collecting pydantic-core==2.27.1 (from pydantic<3,>=1.9.0->openai)\n",
      "  Downloading pydantic_core-2.27.1-cp312-cp312-manylinux_2_17_x86_64.manylinux2014_x86_64.whl.metadata (6.6 kB)\n",
      "Downloading openai-1.55.1-py3-none-any.whl (389 kB)\n",
      "Downloading anyio-4.6.2.post1-py3-none-any.whl (90 kB)\n",
      "Downloading httpx-0.27.2-py3-none-any.whl (76 kB)\n",
      "Downloading httpcore-1.0.7-py3-none-any.whl (78 kB)\n",
      "Downloading jiter-0.7.1-cp312-cp312-manylinux_2_17_x86_64.manylinux2014_x86_64.whl (325 kB)\n",
      "Downloading pydantic-2.10.2-py3-none-any.whl (456 kB)\n",
      "Downloading pydantic_core-2.27.1-cp312-cp312-manylinux_2_17_x86_64.manylinux2014_x86_64.whl (2.2 MB)\n",
      "\u001b[2K   \u001b[90m━━━━━━━━━━━━━━━━━━━━━━━━━━━━━━━━━━━━━━━━\u001b[0m \u001b[32m2.2/2.2 MB\u001b[0m \u001b[31m50.8 MB/s\u001b[0m eta \u001b[36m0:00:00\u001b[0m\n",
      "\u001b[?25hDownloading sniffio-1.3.1-py3-none-any.whl (10 kB)\n",
      "Downloading annotated_types-0.7.0-py3-none-any.whl (13 kB)\n",
      "Downloading h11-0.14.0-py3-none-any.whl (58 kB)\n",
      "Installing collected packages: sniffio, pydantic-core, jiter, h11, annotated-types, pydantic, httpcore, anyio, httpx, openai\n",
      "Successfully installed annotated-types-0.7.0 anyio-4.6.2.post1 h11-0.14.0 httpcore-1.0.7 httpx-0.27.2 jiter-0.7.1 openai-1.55.1 pydantic-2.10.2 pydantic-core-2.27.1 sniffio-1.3.1\n"
     ]
    }
   ],
   "source": [
    "!pip install openai"
   ]
  },
  {
   "cell_type": "code",
   "execution_count": 12,
   "metadata": {},
   "outputs": [
    {
     "name": "stdout",
     "output_type": "stream",
     "text": [
      "Chat response:\n",
      " Sure, here's a light-hearted joke for you:\n",
      "\n",
      "Why don't scientists trust atoms?\n",
      "\n",
      "Because they make up everything, even the joke!\n",
      "\n",
      "Remember, humor can be quite subjective, but I hope this one brings a smile to your face!\n"
     ]
    },
    {
     "name": "stderr",
     "output_type": "stream",
     "text": [
      "/tmp/ipykernel_29006/1608801898.py:20: PydanticDeprecatedSince20: The `dict` method is deprecated; use `model_dump` instead. Deprecated in Pydantic V2.0 to be removed in V3.0. See Pydantic V2 Migration Guide at https://errors.pydantic.dev/2.10/migration/\n",
      "  print(chat_response.dict()[\"choices\"][0][\"message\"][\"content\"])\n"
     ]
    }
   ],
   "source": [
    "from openai import OpenAI\n",
    "# Set OpenAI's API key and API base to use vLLM's API server.\n",
    "openai_api_base = \"https://llm-serving.lab.sspcloud.fr/v1\"\n",
    "model =\"/root/.cache/huggingface/Phi-3-mini-4k-instruct\"  #\"facebook/opt-125m\"\n",
    "openai_api_key=\"test\"\n",
    "\n",
    "client = OpenAI(\n",
    "    api_key=openai_api_key,\n",
    "    base_url=openai_api_base,\n",
    ")\n",
    "\n",
    "chat_response = client.chat.completions.create(\n",
    "    model=model,\n",
    "    messages=[\n",
    "        {\"role\": \"system\", \"content\": \"You are a helpful assistant.\"},\n",
    "        {\"role\": \"user\", \"content\": \"Tell me a joke.\"},\n",
    "    ]\n",
    ")\n",
    "print(\"Chat response:\")\n",
    "print(chat_response.dict()[\"choices\"][0][\"message\"][\"content\"])"
   ]
  },
  {
   "cell_type": "code",
   "execution_count": 10,
   "metadata": {},
   "outputs": [
    {
     "name": "stdout",
     "output_type": "stream",
     "text": [
      "Chat response:\n",
      " ```sql\n",
      "\n",
      "SELECT customers.*, company.name AS company_name\n",
      "\n",
      "FROM customers\n",
      "\n",
      "JOIN company ON customers.company_id = company.id;\n",
      "\n",
      "```\n",
      "\n",
      "This SQL command selects all columns from the `customers` table and a column named `company_name` from the `company` table, where the `company_id` from `customers` matches the `id` in the `company` table.\n"
     ]
    }
   ],
   "source": [
    "chat_response = client.chat.completions.create(\n",
    "    model=model,\n",
    "    messages=[\n",
    "        {\"role\": \"system\", \"content\": \"You are a helpful assistant.\"},\n",
    "        {\"role\": \"user\", \"content\": \"Write a basic SQL command with a join between customers and company tables\"},\n",
    "    ]\n",
    ")\n",
    "print(\"Chat response:\")\n",
    "print(chat_response.dict()[\"choices\"][0][\"message\"][\"content\"])"
   ]
  },
  {
   "cell_type": "code",
   "execution_count": 11,
   "metadata": {},
   "outputs": [
    {
     "name": "stdout",
     "output_type": "stream",
     "text": [
      "Chat response:\n",
      " Certainly! A chess game can be quite complex, but let's start with a simple version that allows two players to move pieces on a board. Below is a basic implementation using Python. This code won't handle all chess rules (like checkmate, castling, or pawn promotion), but it'll give you a starting point.\n",
      "\n",
      "This example uses a console-based interface. For a GUI, you might look into libraries like `pygame` or `tkinter`, or even higher-level frameworks like `python-chess`.\n",
      "\n",
      "```python\n",
      "class ChessPiece:\n",
      "    def __init__(self, name, symbol, color, position):\n",
      "        self.name = name\n",
      "        self.symbol = symbol\n",
      "        self.color = color\n",
      "        self.position = position\n",
      "\n",
      "    def move(self, new_position):\n",
      "        raise NotImplementedError(\"Move not implemented.\")\n",
      "\n",
      "    def __str__(self):\n",
      "        return self.symbol.upper() if self.color == \"White\" else self.symbol.lower()\n",
      "\n",
      "\n",
      "class Pawn(ChessPiece):\n",
      "    def __init__(self, color, position):\n",
      "        super().__init__(\"Pawn\", \"♙\" if color == \"White\" else \"♟\", color, position)\n",
      "\n",
      "    def move(self, new_position):\n",
      "        # Implement pawn-specific movement logic here\n",
      "        print(f\"{self} moves to {new_position}\")\n",
      "\n",
      "\n",
      "class Rook(ChessPiece):\n",
      "    def __init__(self, color, position):\n",
      "        super().__init__(\"Rook\", \"♖\" if color == \"White\" else \"♜\", color, position)\n",
      "\n",
      "    def move(self, new_position):\n",
      "        # Implement rook-specific movement logic here\n",
      "        print(f\"{self} moves to {new_position}\")\n",
      "\n",
      "\n",
      "# Add Knight, Bishop, Queen, King classes similarly\n",
      "\n",
      "class Board:\n",
      "    def __init__(self):\n",
      "        self.grid = [[None for _ in range(8)] for _ in range(8)]\n",
      "        self.setup_pieces()\n",
      "\n",
      "    def setup_pieces(self):\n",
      "        # Place pawns, rooks, knights, bishops, queens, and kings for white and black\n",
      "        for i in range(8):\n",
      "            self.grid[1][i] = Pawn(\"White\", (1, i))\n",
      "            self.grid[6][i] = Pawn(\"Black\", (6, i))\n",
      "            self.grid[0][i] = Rook(\"White\", (0, i))\n",
      "            self.grid[7][i] = Rook(\"Black\", (7, i))\n",
      "        # Knight, Bishop, Queen, King setup goes here\n",
      "\n",
      "    def move(self, piece, new_position):\n",
      "        piece.move(new_position)\n",
      "        self.grid[new_position[0]][new_position[1]] = piece\n",
      "        self.grid[piece.position[0]][piece.position[1]] = None\n",
      "\n",
      "    def __str__(self):\n",
      "        board_str = \"\"\n",
      "        for row in self.grid:\n",
      "            row_str = \"\"\n",
      "            for piece in row:\n",
      "                if piece:\n",
      "                    row_str += str(piece) + \" \"\n",
      "                else:\n",
      "                    row_str += \"· \"\n",
      "            board_str += row_str + \"\\n\"\n",
      "        return board_str\n",
      "\n",
      "\n",
      "def main():\n",
      "    board = Board()\n",
      "    print(board)\n",
      "    # Example move: move the white pawn from (1,0) to (2,0)\n",
      "    board.move(board.grid[1][0], (2, 0))\n",
      "    print(board)\n",
      "\n",
      "\n",
      "if __name__ == \"__main__\":\n",
      "    main()\n",
      "```\n",
      "\n",
      "This code sets up a basic board and pieces. Moves are very simplified; you'll need to implement logic for specific piece movements and rules like en passant, castling, and check/checkmate conditions. For a full-featured game, consider building on this with more detailed implementations or leveraging a chess library.\n"
     ]
    }
   ],
   "source": [
    "chat_response = client.chat.completions.create(\n",
    "    model=model,\n",
    "    messages=[\n",
    "        {\"role\": \"system\", \"content\": \"You are a helpful assistant.\"},\n",
    "        {\"role\": \"user\", \"content\": \"Give me a python code to create a chess game\"},\n",
    "    ]\n",
    ")\n",
    "print(\"Chat response:\")\n",
    "print(chat_response.dict()[\"choices\"][0][\"message\"][\"content\"])"
   ]
  },
  {
   "cell_type": "code",
   "execution_count": 12,
   "metadata": {},
   "outputs": [
    {
     "name": "stdout",
     "output_type": "stream",
     "text": [
      "Chat response:\n",
      " Switzerland: Central European landlocked nation with high living standards, direct democracy, and rich culture.\n"
     ]
    }
   ],
   "source": [
    "chat_response = client.chat.completions.create(\n",
    "    model=model,\n",
    "    messages=[\n",
    "        {\"role\": \"system\", \"content\": \"You are a helpful assistant.\"},\n",
    "        {\"role\": \"user\", \"content\": \"\"\"Give me a very short summary of this content (max 12 words). \n",
    "\n",
    "        Switzerland is a landlocked country situated in Central Europe, known for its stunning landscapes, including snow-capped mountains, pristine lakes, and lush valleys. The country is divided into 26 cantons, each with its own culture and traditions. The capital city is Bern, but other major cities include Zurich, Geneva, and Lucerne.\n",
    "\n",
    "Switzerland is renowned for its high standard of living, strong economy, and high level of political neutrality. It has a long history of democracy, with a direct democracy system in which citizens have a direct say in government decisions. The Swiss National Bank (SNB) is the central bank of the country, and it promotes low inflation and a stable currency.\n",
    "\n",
    "Switzerland is known for its excellent infrastructure, including well-maintained roads, efficient public transportation, and high-speed internet access. The Swiss education system is also highly regarded, with free education for all levels and high-quality universities and vocational training programs.\n",
    "\n",
    "Swiss culture is rich and varied, with a focus on family, hospitality, and respect for the environment. The country is home to a diverse population, with four official languages: German, French, Italian, and Romansh. Swiss cuisine is also well-known, with traditional dishes such as fondue, raclette, and rösti.\n",
    "\n",
    "Switzerland is famous for its chocolates, watches, and banking services. The Swiss watch industry is renowned for its precision and quality, and many of the world's largest and most prestigious watch brands have their headquarters in Switzerland. Swiss banks are known for their security and discretion, and the country has a long history of banking secrecy.\n",
    "\n",
    "In summary, Switzerland is a country with a high standard of living, strong economy, and rich cultural heritage. It is known for its beautiful landscapes, excellent infrastructure, and high-quality education system. The country's neutrality and commitment to democracy make it a unique and interesting place in Europe.\"\"\"},\n",
    "    ]\n",
    ")\n",
    "print(\"Chat response:\")\n",
    "print(chat_response.dict()[\"choices\"][0][\"message\"][\"content\"])"
   ]
  },
  {
   "cell_type": "code",
   "execution_count": null,
   "metadata": {},
   "outputs": [],
   "source": []
  }
 ],
 "metadata": {
  "kernelspec": {
   "display_name": "base",
   "language": "python",
   "name": "python3"
  },
  "language_info": {
   "codemirror_mode": {
    "name": "ipython",
    "version": 3
   },
   "file_extension": ".py",
   "mimetype": "text/x-python",
   "name": "python",
   "nbconvert_exporter": "python",
   "pygments_lexer": "ipython3",
   "version": "3.12.7"
  }
 },
 "nbformat": 4,
 "nbformat_minor": 2
}
