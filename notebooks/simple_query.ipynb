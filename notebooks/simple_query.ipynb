{
 "cells": [
  {
   "cell_type": "code",
   "execution_count": 1,
   "metadata": {},
   "outputs": [],
   "source": [
    "import requests\n",
    "import json"
   ]
  },
  {
   "cell_type": "markdown",
   "metadata": {},
   "source": [
    "## Text completion example"
   ]
  },
  {
   "cell_type": "code",
   "execution_count": 21,
   "metadata": {},
   "outputs": [],
   "source": [
    "def complete_query(api, model, prompt, max_tokens = 100, temperature = 0.7):\n",
    "    headers = {\n",
    "        \"Content-Type\": \"application/json\"\n",
    "    }\n",
    "\n",
    "    json_data = {\n",
    "        'model': model,\n",
    "        'prompt': prompt,\n",
    "        'max_tokens': max_tokens,\n",
    "        'temperature': temperature,\n",
    "    }\n",
    "\n",
    "    response = requests.post(api, headers=headers, json=json_data)\n",
    "    return response.json()[\"choices\"][0][\"text\"]"
   ]
  },
  {
   "cell_type": "code",
   "execution_count": 22,
   "metadata": {},
   "outputs": [],
   "source": [
    "api = \"https://lancelot-llm-serving.lab.sspcloud.fr/v1/completions\"\n",
    "model =\"microsoft/Phi-3-mini-4k-instruct\"  #\"facebook/opt-125m\" #microsoft/Phi-3-mini-4k-instruct meta-llama/Meta-Llama-3-8B-Instruct\""
   ]
  },
  {
   "cell_type": "code",
   "execution_count": 29,
   "metadata": {},
   "outputs": [],
   "source": [
    "prompt = \"Switzerland is a country composed \"\n",
    "query = complete_query(api, model, prompt, max_tokens=40)"
   ]
  },
  {
   "cell_type": "code",
   "execution_count": 30,
   "metadata": {},
   "outputs": [
    {
     "name": "stdout",
     "output_type": "stream",
     "text": [
      "Switzerland is a country composed  26% of foreigners (2017).\n",
      "\n",
      "Since 2010, Swiss citizens have full freedom of movement within the European Union.\n",
      "\n",
      "=== Labor market ===\n",
      "\n"
     ]
    }
   ],
   "source": [
    "print(prompt, query)"
   ]
  },
  {
   "cell_type": "markdown",
   "metadata": {},
   "source": [
    "## Chatbot example"
   ]
  },
  {
   "cell_type": "code",
   "execution_count": 1,
   "metadata": {},
   "outputs": [
    {
     "name": "stdout",
     "output_type": "stream",
     "text": [
      "Requirement already satisfied: openai in /opt/conda/lib/python3.12/site-packages (1.51.0)\n",
      "Requirement already satisfied: anyio<5,>=3.5.0 in /opt/conda/lib/python3.12/site-packages (from openai) (4.6.0)\n",
      "Requirement already satisfied: distro<2,>=1.7.0 in /opt/conda/lib/python3.12/site-packages (from openai) (1.9.0)\n",
      "Requirement already satisfied: httpx<1,>=0.23.0 in /opt/conda/lib/python3.12/site-packages (from openai) (0.27.2)\n",
      "Requirement already satisfied: jiter<1,>=0.4.0 in /opt/conda/lib/python3.12/site-packages (from openai) (0.5.0)\n",
      "Requirement already satisfied: pydantic<3,>=1.9.0 in /opt/conda/lib/python3.12/site-packages (from openai) (2.9.2)\n",
      "Requirement already satisfied: sniffio in /opt/conda/lib/python3.12/site-packages (from openai) (1.3.1)\n",
      "Requirement already satisfied: tqdm>4 in /opt/conda/lib/python3.12/site-packages (from openai) (4.66.5)\n",
      "Requirement already satisfied: typing-extensions<5,>=4.11 in /opt/conda/lib/python3.12/site-packages (from openai) (4.12.2)\n",
      "Requirement already satisfied: idna>=2.8 in /opt/conda/lib/python3.12/site-packages (from anyio<5,>=3.5.0->openai) (3.10)\n",
      "Requirement already satisfied: certifi in /opt/conda/lib/python3.12/site-packages (from httpx<1,>=0.23.0->openai) (2024.8.30)\n",
      "Requirement already satisfied: httpcore==1.* in /opt/conda/lib/python3.12/site-packages (from httpx<1,>=0.23.0->openai) (1.0.6)\n",
      "Requirement already satisfied: h11<0.15,>=0.13 in /opt/conda/lib/python3.12/site-packages (from httpcore==1.*->httpx<1,>=0.23.0->openai) (0.14.0)\n",
      "Requirement already satisfied: annotated-types>=0.6.0 in /opt/conda/lib/python3.12/site-packages (from pydantic<3,>=1.9.0->openai) (0.7.0)\n",
      "Requirement already satisfied: pydantic-core==2.23.4 in /opt/conda/lib/python3.12/site-packages (from pydantic<3,>=1.9.0->openai) (2.23.4)\n"
     ]
    }
   ],
   "source": [
    "!pip install openai"
   ]
  },
  {
   "cell_type": "code",
   "execution_count": 3,
   "metadata": {},
   "outputs": [
    {
     "name": "stdout",
     "output_type": "stream",
     "text": [
      "Chat response:\n",
      " Sure, here's a light-hearted joke for you: Why don't scientists trust atoms? Because they make up everything!\n"
     ]
    }
   ],
   "source": [
    "from openai import OpenAI\n",
    "# Set OpenAI's API key and API base to use vLLM's API server.\n",
    "openai_api_base = \"https://lancelot-llm-serving.lab.sspcloud.fr/v1\"\n",
    "model =\"microsoft/Phi-3-mini-4k-instruct\"  #\"facebook/opt-125m\"\n",
    "openai_api_key=\"test\"\n",
    "\n",
    "client = OpenAI(\n",
    "    api_key=openai_api_key,\n",
    "    base_url=openai_api_base,\n",
    ")\n",
    "\n",
    "chat_response = client.chat.completions.create(\n",
    "    model=model,\n",
    "    messages=[\n",
    "        {\"role\": \"system\", \"content\": \"You are a helpful assistant.\"},\n",
    "        {\"role\": \"user\", \"content\": \"Tell me a joke.\"},\n",
    "    ]\n",
    ")\n",
    "print(\"Chat response:\")\n",
    "print(chat_response.dict()[\"choices\"][0][\"message\"][\"content\"])"
   ]
  },
  {
   "cell_type": "code",
   "execution_count": 4,
   "metadata": {},
   "outputs": [
    {
     "name": "stdout",
     "output_type": "stream",
     "text": [
      "Chat response:\n",
      " To write a basic SQL command that performs a join between `customers` and `company` tables, we need to know the columns they share for the join condition. For demonstration purposes, let's assume `customers` table has a column `company_id` (which is a foreign key to the primary key of the `company` table named `id`) and we want to retrieve all customers along with their corresponding company information.\n",
      "\n",
      "Here's how you can perform an inner join between these two tables to achieve this:\n",
      "\n",
      "```sql\n",
      "SELECT customers.*, company.name AS company_name, company.location\n",
      "FROM customers\n",
      "INNER JOIN company ON customers.company_id = company.id;\n",
      "```\n",
      "\n",
      "In this SQL command:\n",
      "- `SELECT customers.*, company.name AS company_name, company.location`: This specifies the columns to be retrieved. The `*` selects all columns from the `customers` table. The `AS company_name` and `AS company.location` gives an alias to the `name` and `location` columns from the `company` table, making them more readable in the result set.\n",
      "- `FROM customers`: This specifies the first table from which to retrieve the data.\n",
      "- `INNER JOIN company ON customers.company_id = company.id`: This specifies the join condition. It joins the `customers` table with the `company` table where the `company_id` in the `customers` table matches the `id` in the `company` table. An inner join will only return rows where there is a match in both tables.\n",
      "\n",
      "Remember, the exact columns used for the join (`company_id` and `id`) and the columns selected (`name`, `location`) might differ based on your actual database schema. Always adjust the SQL command according to your specific tables and their relationships.\n"
     ]
    }
   ],
   "source": [
    "chat_response = client.chat.completions.create(\n",
    "    model=model,\n",
    "    messages=[\n",
    "        {\"role\": \"system\", \"content\": \"You are a helpful assistant.\"},\n",
    "        {\"role\": \"user\", \"content\": \"Write a basic SQL command with a join between customers and company tables\"},\n",
    "    ]\n",
    ")\n",
    "print(\"Chat response:\")\n",
    "print(chat_response.dict()[\"choices\"][0][\"message\"][\"content\"])"
   ]
  },
  {
   "cell_type": "code",
   "execution_count": 9,
   "metadata": {},
   "outputs": [
    {
     "name": "stdout",
     "output_type": "stream",
     "text": [
      "Chat response:\n",
      " Creating a complete chess game involves numerous components, including the chessboard, chess pieces, rules, and user interactions. For a straightforward implementation, we'll create a simple text-based chess game using Python. This game will include a basic board, piece representation, and the ability to move pieces according to chess rules. Due to space and complexity, we will only implement functionality for the initial setup, basic moves, and checkmate detection.\n",
      "\n",
      "This implementation lacks advanced features like special moves (castling, en passant, promotion), AI opponent, and complete rule enforcement for brevity.\n",
      "\n",
      "```python\n",
      "class ChessPiece:\n",
      "    def __init__(self, color, position):\n",
      "        self.color = color\n",
      "        self.position = position\n",
      "\n",
      "    def move_to(self, new_position):\n",
      "        \"\"\"Move the piece to the new position\"\"\"\n",
      "        self.position = new_position\n",
      "\n",
      "    def __str__(self):\n",
      "        return f\"{'W' if self.color == 'white' else 'B'} {self.position}\"\n",
      "\n",
      "class ChessBoard:\n",
      "    def __init__(self):\n",
      "        self.board = self.create_board()\n",
      "\n",
      "    def create_board(self):\n",
      "        \"\"\"Create the initial board setup\"\"\"\n",
      "        board = [['' for _ in range(8)] for _ in range(8)]\n",
      "        piece_positions = {\n",
      "            'white': [(7, i) for i in range(8)],\n",
      "            'black': [(0, i) for i in range(8)]\n",
      "        }\n",
      "        for color, positions in piece_positions.items():\n",
      "            for x, y in positions:\n",
      "                board[x][y] = ChessPiece(color, (x, y))\n",
      "        return board\n",
      "\n",
      "    def display(self):\n",
      "        \"\"\"Display the board\"\"\"\n",
      "        print(\"  a b c d e f g h\")\n",
      "        for idx, row in enumerate(self.board):\n",
      "            print(f\"{idx+1} {' '.join(['.' if not piece else piece for piece in row])}\")\n",
      "\n",
      "class ChessGame:\n",
      "    def __init__(self):\n",
      "        self.board = ChessBoard()\n",
      "        self.is_game_over = False\n",
      "\n",
      "    def play(self):\n",
      "        \"\"\"Main game loop\"\"\"\n",
      "        while not self.is_game_over:\n",
      "            self.board.display()\n",
      "            # For simplicity, this example only handles pawn moves.\n",
      "            # Implementing all rules and piece movements would require a more complex system.\n",
      "            for row in range(8):\n",
      "                for col in range(8):\n",
      "                    piece = self.board.board[row][col]\n",
      "                    if piece:\n",
      "                        print(f\"Move piece at {piece}\")\n",
      "                        # Simplified move input (e.g., \"a2 a3\" for pawn)\n",
      "                        src_col, src_row = ord(input(\"Enter source column (a-h): \")[0]), int(input(\"Enter source row (1-8): \")) - 1\n",
      "                        dst_col, dst_row = ord(input(\"Enter destination column (a-h): \")[0]), int(input(\"Enter destination row (1-8): \")) - 1\n",
      "                        if self.is_valid_move(piece, (src_row, src_col), (dst_row, dst_col)):\n",
      "                            piece.move_to((dst_row, dst_col))\n",
      "            self.check_for_checkmate()\n",
      "\n",
      "    def is_valid_move(self, piece, src, dst):\n",
      "        \"\"\"Check if the move is valid for the given piece\"\"\"\n",
      "        # This method should contain logic for validating moves according to the rules of chess.\n",
      "        # As an example, we're assuming all moves are valid for simplicity.\n",
      "        return True\n",
      "\n",
      "    def check_for_checkmate(self):\n",
      "        \"\"\"Check for checkmate or other end conditions\"\"\"\n",
      "        # Implement logic to determine if the game is over and, if so, who won.\n",
      "        pass\n",
      "\n",
      "if __name__ == \"__main__\":\n",
      "    game = ChessGame()\n",
      "    game.play()\n",
      "```\n",
      "\n",
      "This code provides a basic structure for a chess game, focusing on the setup, simple moves, and a rudimentary game loop. To create a fully functional chess game, you would need to implement detailed logic for piece movement, special moves, checkmate detection, and more.\n"
     ]
    }
   ],
   "source": [
    "chat_response = client.chat.completions.create(\n",
    "    model=model,\n",
    "    messages=[\n",
    "        {\"role\": \"system\", \"content\": \"You are a helpful assistant.\"},\n",
    "        {\"role\": \"user\", \"content\": \"Give me a python code to create a chess game\"},\n",
    "    ]\n",
    ")\n",
    "print(\"Chat response:\")\n",
    "print(chat_response.dict()[\"choices\"][0][\"message\"][\"content\"])"
   ]
  },
  {
   "cell_type": "code",
   "execution_count": 8,
   "metadata": {},
   "outputs": [
    {
     "name": "stdout",
     "output_type": "stream",
     "text": [
      "Chat response:\n",
      " Switzerland - Landlocked country with high living standard, neutrality, and quality education.\n"
     ]
    }
   ],
   "source": [
    "chat_response = client.chat.completions.create(\n",
    "    model=model,\n",
    "    messages=[\n",
    "        {\"role\": \"system\", \"content\": \"You are a helpful assistant.\"},\n",
    "        {\"role\": \"user\", \"content\": \"\"\"Give me a very short summary of this content (max 12 words). \n",
    "\n",
    "        Switzerland is a landlocked country situated in Central Europe, known for its stunning landscapes, including snow-capped mountains, pristine lakes, and lush valleys. The country is divided into 26 cantons, each with its own culture and traditions. The capital city is Bern, but other major cities include Zurich, Geneva, and Lucerne.\n",
    "\n",
    "Switzerland is renowned for its high standard of living, strong economy, and high level of political neutrality. It has a long history of democracy, with a direct democracy system in which citizens have a direct say in government decisions. The Swiss National Bank (SNB) is the central bank of the country, and it promotes low inflation and a stable currency.\n",
    "\n",
    "Switzerland is known for its excellent infrastructure, including well-maintained roads, efficient public transportation, and high-speed internet access. The Swiss education system is also highly regarded, with free education for all levels and high-quality universities and vocational training programs.\n",
    "\n",
    "Swiss culture is rich and varied, with a focus on family, hospitality, and respect for the environment. The country is home to a diverse population, with four official languages: German, French, Italian, and Romansh. Swiss cuisine is also well-known, with traditional dishes such as fondue, raclette, and rösti.\n",
    "\n",
    "Switzerland is famous for its chocolates, watches, and banking services. The Swiss watch industry is renowned for its precision and quality, and many of the world's largest and most prestigious watch brands have their headquarters in Switzerland. Swiss banks are known for their security and discretion, and the country has a long history of banking secrecy.\n",
    "\n",
    "In summary, Switzerland is a country with a high standard of living, strong economy, and rich cultural heritage. It is known for its beautiful landscapes, excellent infrastructure, and high-quality education system. The country's neutrality and commitment to democracy make it a unique and interesting place in Europe.\"\"\"},\n",
    "    ]\n",
    ")\n",
    "print(\"Chat response:\")\n",
    "print(chat_response.dict()[\"choices\"][0][\"message\"][\"content\"])"
   ]
  },
  {
   "cell_type": "code",
   "execution_count": null,
   "metadata": {},
   "outputs": [],
   "source": []
  }
 ],
 "metadata": {
  "kernelspec": {
   "display_name": "base",
   "language": "python",
   "name": "python3"
  },
  "language_info": {
   "codemirror_mode": {
    "name": "ipython",
    "version": 3
   },
   "file_extension": ".py",
   "mimetype": "text/x-python",
   "name": "python",
   "nbconvert_exporter": "python",
   "pygments_lexer": "ipython3",
   "version": "3.12.6"
  }
 },
 "nbformat": 4,
 "nbformat_minor": 2
}
